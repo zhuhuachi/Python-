{
  "nbformat": 4,
  "nbformat_minor": 0,
  "metadata": {
    "colab": {
      "name": "python1.ipynb",
      "provenance": [],
      "authorship_tag": "ABX9TyMmE3XT1+NEi1YZqfDeY/iM",
      "include_colab_link": true
    },
    "kernelspec": {
      "name": "python3",
      "display_name": "Python 3"
    },
    "language_info": {
      "name": "python"
    }
  },
  "cells": [
    {
      "cell_type": "markdown",
      "metadata": {
        "id": "view-in-github",
        "colab_type": "text"
      },
      "source": [
        "<a href=\"https://colab.research.google.com/github/zhuhuachi/Python-/blob/main/python1.ipynb\" target=\"_parent\"><img src=\"https://colab.research.google.com/assets/colab-badge.svg\" alt=\"Open In Colab\"/></a>"
      ]
    },
    {
      "cell_type": "markdown",
      "source": [
        "输入与输出"
      ],
      "metadata": {
        "id": "_UGh8l1Apu2W"
      }
    },
    {
      "cell_type": "code",
      "execution_count": null,
      "metadata": {
        "colab": {
          "base_uri": "https://localhost:8080/"
        },
        "id": "3EAjHgpCmXQT",
        "outputId": "34a0201a-db4e-4dbe-b0c3-6a3df0749a44"
      },
      "outputs": [
        {
          "output_type": "stream",
          "name": "stdout",
          "text": [
            "你想说啥：我爱你\n",
            "我爱你\n"
          ]
        }
      ],
      "source": [
        "name = input('你想说啥：')\n",
        "print(name)"
      ]
    },
    {
      "cell_type": "markdown",
      "source": [
        "查看对象的类型"
      ],
      "metadata": {
        "id": "PysGQm1ops6g"
      }
    },
    {
      "cell_type": "code",
      "source": [
        "print(type(99))\n",
        "print(type('abc'))"
      ],
      "metadata": {
        "colab": {
          "base_uri": "https://localhost:8080/"
        },
        "id": "175VNusEqStC",
        "outputId": "7570b082-be85-45f3-86c2-18c29a767719"
      },
      "execution_count": null,
      "outputs": [
        {
          "output_type": "stream",
          "name": "stdout",
          "text": [
            "<class 'int'>\n",
            "<class 'str'>\n"
          ]
        }
      ]
    },
    {
      "cell_type": "code",
      "source": [
        "num = '99'\n",
        "print(num)  #返回 '99'\n",
        "print(type(num)) # 返回＜class  'str' ＞\n",
        "\n",
        "print(int(num)) # 返回 99\n",
        "print(type(int(num))) # 返回＜class  'int' ＞\n",
        "\n",
        "print(float(num)) # 返回 99.0\n",
        "print(type(float(num))) # 返回＜class  'float' ＞\n",
        "\n",
        "print(complex(num)) # 返回（99＋0j）\n",
        "print(type(complex(num))) # 返回＜class  'complex' ＞"
      ],
      "metadata": {
        "colab": {
          "base_uri": "https://localhost:8080/"
        },
        "id": "BqZdYUGwrDwB",
        "outputId": "e752091c-b60d-4f0d-8bb9-46c66ccfd065"
      },
      "execution_count": null,
      "outputs": [
        {
          "output_type": "stream",
          "name": "stdout",
          "text": [
            "99\n",
            "<class 'str'>\n",
            "99\n",
            "<class 'int'>\n",
            "99.0\n",
            "<class 'float'>\n",
            "(99+0j)\n",
            "<class 'complex'>\n"
          ]
        }
      ]
    },
    {
      "cell_type": "markdown",
      "source": [
        "换行"
      ],
      "metadata": {
        "id": "gtS0gh6QprrP"
      }
    },
    {
      "cell_type": "code",
      "source": [
        "num = 99\n",
        "print(str(num)) # 返回 99\n",
        "print(type(str(num))) # 返回＜class  'str' ＞\n",
        "# 在 Python 中，还有一些常用的特殊字符，比如换行符（\\n）、制表符（\\t）、回车符（\\r）等。在遇到特殊字符，需要将其转换为普通字符时，在其前面加上“\\”即可。\n",
        "# 还有另一种转换方法是，在字符串的左外侧加上字母 r（大小写均可）。\n",
        "print('我是谁！\\n 我在哪儿！') # \\n 表示换行\n",
        "print('我是谁！\\\\n 我在哪儿！') # \\\\n 被识别为普通字符\n",
        "print(r'我是谁！\\n 我在哪儿！') # \\n 被识别为普通字符"
      ],
      "metadata": {
        "colab": {
          "base_uri": "https://localhost:8080/"
        },
        "id": "SEMK_fliFSlb",
        "outputId": "b17131d4-29d2-4c7d-a69e-5706f092ecf2"
      },
      "execution_count": null,
      "outputs": [
        {
          "output_type": "stream",
          "name": "stdout",
          "text": [
            "99\n",
            "<class 'str'>\n",
            "我是谁！\n",
            " 我在哪儿！\n",
            "我是谁！\\n 我在哪儿！\n",
            "我是谁！\\n 我在哪儿！\n"
          ]
        }
      ]
    },
    {
      "cell_type": "markdown",
      "source": [
        " 使用位置和关键字格式化字符串"
      ],
      "metadata": {
        "id": "xMXQRqtiGhZp"
      }
    },
    {
      "cell_type": "code",
      "source": [
        "# 使用位置索引\n",
        "# 按默认顺序获取 format 中的数据\n",
        "print('恭喜 {} 获得 {} 分。' .format('杨' , 100))\n",
        "# 按指定顺序获取 format 中的数据\n",
        "print('恭喜 {0} 获得 {1} 分。' .format('杨' , 100))\n",
        "# 使用关键字索引\n",
        "# 按指定名称获取 format 中的数据\n",
        "print('恭喜 {name} 获得 {score} 分。'.format(name='杨' , score=100)) "
      ],
      "metadata": {
        "colab": {
          "base_uri": "https://localhost:8080/"
        },
        "id": "FwkbguuAGiNw",
        "outputId": "31ff77c9-97d8-4bce-86ed-608fc76f90e1"
      },
      "execution_count": 1,
      "outputs": [
        {
          "output_type": "stream",
          "name": "stdout",
          "text": [
            "恭喜 杨 获得 100 分。\n",
            "恭喜 杨 获得 100 分。\n",
            "恭喜 杨 获得 100 分。\n"
          ]
        }
      ]
    },
    {
      "cell_type": "code",
      "source": [
        "import xlwt #导入 xlwt 库。\n",
        "wb = xlwt.Workbook('utf-8') #新建工作簿。\n",
        "year_num = 2010 #初始化 year_num 变量为 2010。\n",
        "while year_num < 2020: #如果 year_num 变量小于 2020 则执行 while 循环体的语句。\n",
        "    txt = '{}年业绩表'.format(year_num) #使用变量 year_num 格式化为工作表名称。\n",
        "    wb.add_sheet(txt) #新建工作表。\n",
        "    year_num += 1 #累加 year_num 变量。\n",
        "wb.save('./PerformanceWorksheet.xls') #保存工作簿。"
      ],
      "metadata": {
        "id": "GjkGWD7xSh5M"
      },
      "execution_count": null,
      "outputs": []
    },
    {
      "cell_type": "code",
      "source": [
        "import xlrd # 导入 xlrd\n",
        "wb = xlrd.open_workbook(r'1-Scores.xls') # 读取工作簿对象。"
      ],
      "metadata": {
        "id": "ymFBamj5VNpC"
      },
      "execution_count": null,
      "outputs": []
    },
    {
      "cell_type": "code",
      "source": [
        "member = ['林肯', '杨小辉', '谷爱凌', '苏翊鸣', '王菲']\n",
        "for each in member:\n",
        "    print(each)\n",
        "\n",
        "for i in range(len(member)):\n",
        "    print(member[i])"
      ],
      "metadata": {
        "colab": {
          "base_uri": "https://localhost:8080/"
        },
        "id": "jJVP-aNVVsv6",
        "outputId": "6631d88f-f399-420e-b9e7-a0199903dc69"
      },
      "execution_count": null,
      "outputs": [
        {
          "output_type": "stream",
          "name": "stdout",
          "text": [
            "林肯\n",
            "杨小辉\n",
            "谷爱凌\n",
            "苏翊鸣\n",
            "王菲\n",
            "林肯\n",
            "杨小辉\n",
            "谷爱凌\n",
            "苏翊鸣\n",
            "王菲\n"
          ]
        }
      ]
    },
    {
      "cell_type": "code",
      "source": [
        "dic = {'a': 1, 'b': 2, 'c': 3, 'd': 4}\n",
        "\n",
        "for key in dic.keys():\n",
        "    print(key, end=' ')"
      ],
      "metadata": {
        "colab": {
          "base_uri": "https://localhost:8080/"
        },
        "id": "vye4kdfRVzzt",
        "outputId": "389671a9-2650-4594-b8cf-029ec20409d8"
      },
      "execution_count": null,
      "outputs": [
        {
          "output_type": "stream",
          "name": "stdout",
          "text": [
            "a b c d "
          ]
        }
      ]
    },
    {
      "cell_type": "code",
      "source": [
        "dic = {'a': 1, 'b': 2, 'c': 3, 'd': 4}\n",
        "\n",
        "for key in dic.keys():\n",
        "    print(key)"
      ],
      "metadata": {
        "colab": {
          "base_uri": "https://localhost:8080/"
        },
        "id": "9GogXhnNV6Sl",
        "outputId": "6c732d08-64cf-44e5-8082-e3dc48176fa9"
      },
      "execution_count": null,
      "outputs": [
        {
          "output_type": "stream",
          "name": "stdout",
          "text": [
            "a\n",
            "b\n",
            "c\n",
            "d\n"
          ]
        }
      ]
    }
  ]
}